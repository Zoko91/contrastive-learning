{
 "nbformat": 4,
 "nbformat_minor": 0,
 "metadata": {
  "colab": {
   "provenance": [],
   "gpuType": "T4"
  },
  "kernelspec": {
   "name": "python3",
   "language": "python",
   "display_name": "Python 3 (ipykernel)"
  },
  "language_info": {
   "name": "python"
  },
  "accelerator": "GPU"
 },
 "cells": [
  {
   "cell_type": "markdown",
   "source": [
    "# Contrastive Learning"
   ],
   "metadata": {
    "id": "SF-R92oKYOvg"
   }
  },
  {
   "cell_type": "code",
   "execution_count": 29,
   "outputs": [],
   "source": [
    "batch_size = 2\n",
    "model_name = \"CLR - 01\""
   ],
   "metadata": {
    "collapsed": false,
    "ExecuteTime": {
     "end_time": "2023-12-13T10:59:13.591748366Z",
     "start_time": "2023-12-13T10:59:13.399801221Z"
    }
   }
  },
  {
   "cell_type": "code",
   "source": [
    "%%capture\n",
    "!pip install torch torchvision"
   ],
   "metadata": {
    "id": "S0dxH2HSYVGY",
    "ExecuteTime": {
     "end_time": "2023-12-13T10:59:15.281063255Z",
     "start_time": "2023-12-13T10:59:13.405080779Z"
    }
   },
   "execution_count": 30,
   "outputs": []
  },
  {
   "cell_type": "code",
   "source": [
    "import matplotlib.pyplot as plt\n",
    "import numpy as np\n",
    "import torchvision\n",
    "import torch\n",
    "from torchvision import transforms\n",
    "from torchvision import datasets\n",
    "from torch.utils.data import DataLoader\n",
    "import torch.nn as nn\n",
    "from torch.nn.functional import cosine_similarity\n",
    "import torchvision.transforms.functional as TF\n",
    "import torch.optim as optim\n",
    "from tqdm import tqdm\n",
    "import time\n",
    "import csv"
   ],
   "metadata": {
    "id": "Q2l_5Xoha8Iv",
    "ExecuteTime": {
     "end_time": "2023-12-13T10:59:15.325275380Z",
     "start_time": "2023-12-13T10:59:15.324966018Z"
    }
   },
   "execution_count": 31,
   "outputs": []
  },
  {
   "cell_type": "code",
   "execution_count": 32,
   "outputs": [],
   "source": [
    "torch.cuda.empty_cache()"
   ],
   "metadata": {
    "collapsed": false,
    "ExecuteTime": {
     "end_time": "2023-12-13T10:59:15.325491701Z",
     "start_time": "2023-12-13T10:59:15.325152754Z"
    }
   }
  },
  {
   "cell_type": "code",
   "execution_count": 33,
   "outputs": [],
   "source": [
    "%%capture\n",
    "# Set random seed\n",
    "seed = 42\n",
    "torch.manual_seed(seed)\n",
    "np.random.seed(seed)\n",
    "\n",
    "# Usual transformations\n",
    "transform_load = transforms.Compose([\n",
    "    transforms.Resize((224, 224)),\n",
    "    transforms.ToTensor()\n",
    "])\n",
    "\n",
    "# Data augmentation\n",
    "def get_transformed_augmented(val):\n",
    "    if val < 0.5:\n",
    "        return transforms.Compose([\n",
    "        transforms.RandomResizedCrop(size=224 ,scale=(0.7, 1.0), ratio=(0.8, 1.2)),\n",
    "        transforms.RandomHorizontalFlip(0.3),\n",
    "    ])\n",
    "    return transforms.Compose([\n",
    "        transforms.RandomHorizontalFlip(0.3),\n",
    "        transforms.ColorJitter(brightness=0.1, contrast=0.1,\n",
    "                                  saturation=0.1, hue=0.05)\n",
    "    ])\n",
    "\n",
    "# Get the subset dataset and calculate the mean and std\n",
    "train_dataset = datasets.CIFAR10(root='./data', train=True, download=True, transform=transform_load)\n",
    "train_size = 5000\n",
    "subset_indices = np.random.choice(len(train_dataset), train_size, replace=False)\n",
    "subset_dataset = torch.utils.data.Subset(train_dataset, subset_indices)\n",
    "\n",
    "val_dataset = datasets.CIFAR10(root='./data', train=False, download=True, transform=transform_load)"
   ],
   "metadata": {
    "collapsed": false,
    "ExecuteTime": {
     "end_time": "2023-12-13T10:59:16.570617392Z",
     "start_time": "2023-12-13T10:59:15.325243079Z"
    }
   }
  },
  {
   "cell_type": "code",
   "execution_count": 34,
   "outputs": [],
   "source": [
    "# Data augmentation\n",
    "def get_transforms(means, stds):\n",
    "    transform = transforms.Compose([\n",
    "        transforms.Resize((224, 224)),\n",
    "        transforms.ToTensor(),\n",
    "        transforms.Normalize(means, stds),\n",
    "    ])\n",
    "    return transform\n",
    "\n",
    "# Calculate the mean and std of the subset dataset\n",
    "def get_mean_std(dataset):\n",
    "    \"\"\"Compute the mean and std value of dataset.\"\"\"\n",
    "    dataloader = DataLoader(dataset, batch_size=1, shuffle=False, num_workers=2)\n",
    "    mean = torch.zeros(3)\n",
    "    std = torch.zeros(3)\n",
    "    print('==> Computing mean and std..')\n",
    "    for inputs, targets in dataloader:\n",
    "        for i in range(3):\n",
    "            mean[i] += inputs[:, i, :, :].mean()\n",
    "            std[i] += inputs[:, i, :, :].std()\n",
    "    mean.div_(len(dataset))\n",
    "    std.div_(len(dataset))\n",
    "    return mean, std"
   ],
   "metadata": {
    "collapsed": false,
    "ExecuteTime": {
     "end_time": "2023-12-13T10:59:16.642459174Z",
     "start_time": "2023-12-13T10:59:16.574028636Z"
    }
   }
  },
  {
   "cell_type": "code",
   "execution_count": 35,
   "outputs": [
    {
     "name": "stdout",
     "output_type": "stream",
     "text": [
      "==> Computing mean and std..\n",
      "Means: tensor([0.4902, 0.4795, 0.4439])\n",
      "Standard deviations: tensor([0.1948, 0.1929, 0.1945])\n",
      "\n",
      "==> Computing mean and std..\n",
      "Validation means: tensor([0.4942, 0.4851, 0.4504])\n",
      "Validation standard deviations: tensor([0.1949, 0.1922, 0.1944])\n"
     ]
    }
   ],
   "source": [
    "# Calculate the mean and std of the subset dataset\n",
    "train_means, train_stds = get_mean_std(subset_dataset)\n",
    "print(f'Means: {train_means}')\n",
    "print(f'Standard deviations: {train_stds}\\n')\n",
    "val_means, val_stds = get_mean_std(val_dataset)\n",
    "print(f'Validation means: {val_means}')\n",
    "print(f'Validation standard deviations: {val_stds}')"
   ],
   "metadata": {
    "collapsed": false,
    "ExecuteTime": {
     "end_time": "2023-12-13T10:59:32.814093353Z",
     "start_time": "2023-12-13T10:59:16.620988477Z"
    }
   }
  },
  {
   "cell_type": "code",
   "execution_count": 36,
   "outputs": [],
   "source": [
    "%%capture\n",
    "train_dataset = datasets.CIFAR10(root='./data', train=True, download=True, transform=get_transforms(train_means,train_stds))\n",
    "train_size = 5000\n",
    "subset_indices = np.random.choice(len(train_dataset), train_size, replace=False)\n",
    "subset_dataset = torch.utils.data.Subset(train_dataset, subset_indices)\n",
    "val_dataset = datasets.CIFAR10(root='./data', train=False, download=True, transform=get_transforms(val_means,val_stds))\n",
    "\n",
    "# Data Loader\n",
    "train_loader = DataLoader(subset_dataset, batch_size=batch_size, shuffle=True, num_workers=2)"
   ],
   "metadata": {
    "collapsed": false,
    "ExecuteTime": {
     "end_time": "2023-12-13T10:59:34.053307273Z",
     "start_time": "2023-12-13T10:59:32.814456709Z"
    }
   }
  },
  {
   "cell_type": "markdown",
   "source": [
    "## Contrastive Model"
   ],
   "metadata": {
    "id": "TU_IF3rdpqTU"
   }
  },
  {
   "cell_type": "code",
   "source": [
    "class ContrastiveLoss(nn.Module):\n",
    "    def __init__(self, temperature=0.1):\n",
    "        super(ContrastiveLoss, self).__init__()\n",
    "        self.temperature = temperature\n",
    "\n",
    "    def forward(self, z1, z2, z_list):\n",
    "        # Calculate cosine similarity\n",
    "        similarity_pair = cosine_similarity(z1, z2, dim=-1) / self.temperature\n",
    "\n",
    "        # Calculate the cosine similarity for each pair of z1 and... but not z1 and z1\n",
    "        similarities = torch.stack([cosine_similarity(z1, rep, dim=-1) / self.temperature for rep in z_list if not torch.equal(rep, z1)])\n",
    "        \n",
    "        if similarities.numel() == 0:\n",
    "            return torch.tensor(0.0, device=z1.device, requires_grad=True)\n",
    "        \n",
    "        # Numerator is exp(similarity_pair)\n",
    "        exp_similarity = torch.exp(similarity_pair)\n",
    "\n",
    "        # Denominator is sum(exp(list_similarity_pair))\n",
    "        exp_similarities = torch.sum(torch.exp(similarities))\n",
    "\n",
    "        # Apply log-sum-exp trick\n",
    "        loss = -torch.log(exp_similarity / (exp_similarities + exp_similarity))\n",
    "        \n",
    "        if torch.isnan(loss):\n",
    "            return torch.tensor(0.0, device=z1.device, requires_grad=True)\n",
    "            \n",
    "        return torch.mean(loss)  # Compute the mean of the loss"
   ],
   "metadata": {
    "id": "b5ThCO2Kp0ee",
    "ExecuteTime": {
     "end_time": "2023-12-13T10:59:34.057629310Z",
     "start_time": "2023-12-13T10:59:34.055314796Z"
    }
   },
   "execution_count": 37,
   "outputs": []
  },
  {
   "cell_type": "code",
   "source": [
    "class SiameseNetwork(nn.Module):\n",
    "    def __init__(self, base_model):\n",
    "        super(SiameseNetwork, self).__init__()\n",
    "        self.base_model = base_model\n",
    "\n",
    "\n",
    "    def forward(self, x1, x2):\n",
    "        z1 = self.base_model(x1)\n",
    "        z2 = self.base_model(x2)\n",
    "        return z1, z2"
   ],
   "metadata": {
    "id": "2vthegBPp7KD",
    "ExecuteTime": {
     "end_time": "2023-12-13T10:59:34.101275384Z",
     "start_time": "2023-12-13T10:59:34.058510750Z"
    }
   },
   "execution_count": 38,
   "outputs": []
  },
  {
   "cell_type": "code",
   "source": [
    "class SimpleResNet(nn.Module):\n",
    "    def __init__(self):\n",
    "        super(SimpleResNet, self).__init__()\n",
    "        self.resnet = torchvision.models.resnet18()\n",
    "        self.resnet.fc = nn.Identity()\n",
    "\n",
    "    def forward(self, x):\n",
    "        return self.resnet(x)"
   ],
   "metadata": {
    "id": "YT67ux7Sp9en",
    "ExecuteTime": {
     "end_time": "2023-12-13T10:59:34.101474115Z",
     "start_time": "2023-12-13T10:59:34.100963553Z"
    }
   },
   "execution_count": 39,
   "outputs": []
  },
  {
   "cell_type": "code",
   "source": [
    "model = SiameseNetwork(SimpleResNet())\n",
    "learning_rate = 0.0001\n",
    "optimizer = optim.Adam(model.parameters(), lr=learning_rate)\n",
    "criterion = ContrastiveLoss()"
   ],
   "metadata": {
    "id": "9wsijZ73qEMr",
    "ExecuteTime": {
     "end_time": "2023-12-13T10:59:34.196267379Z",
     "start_time": "2023-12-13T10:59:34.101120552Z"
    }
   },
   "execution_count": 40,
   "outputs": []
  },
  {
   "cell_type": "code",
   "source": [
    "%%capture\n",
    "num_epochs = 30\n",
    "device = torch.device(\"cuda\" if torch.cuda.is_available() else \"cpu\")\n",
    "model.to(device)"
   ],
   "metadata": {
    "id": "zxiGO8aJqP7f",
    "ExecuteTime": {
     "end_time": "2023-12-13T10:59:34.241216801Z",
     "start_time": "2023-12-13T10:59:34.198701160Z"
    }
   },
   "execution_count": 41,
   "outputs": []
  },
  {
   "cell_type": "code",
   "source": [
    "loss_history = []\n",
    "start_time = time.time()\n",
    "for epoch in range(num_epochs):\n",
    "    model.train()\n",
    "    total_loss = 0\n",
    "\n",
    "    for i, data in enumerate(train_loader):\n",
    "\n",
    "        images, _ = data\n",
    "        images = images.to(device)\n",
    "\n",
    "        # Zero the gradients\n",
    "        optimizer.zero_grad()\n",
    "\n",
    "        # Initialize total loss for the batch\n",
    "        batch_loss = torch.tensor(0.0, device=device, requires_grad=True)\n",
    "\n",
    "        # Create tuples of transformed images for each image of the batch and put all the zk, zk+1 in a list (feed forward network)\n",
    "        zk_list = []\n",
    "        for image in images:\n",
    "            transformation1 = get_transformed_augmented(np.random.rand())\n",
    "            transformation2 = get_transformed_augmented(np.random.rand())\n",
    "            transformed_image1 = transformation1(image).to(device)\n",
    "            transformed_image2 = transformation2(image).to(device)\n",
    "\n",
    "            z1, z2 = model(transformed_image1.unsqueeze(0), transformed_image2.unsqueeze(0))\n",
    "            zk_list.append(z1)\n",
    "            zk_list.append(z2)\n",
    "            \n",
    "\n",
    "        # Process each image in the batch\n",
    "        for i in range(0, len(zk_list), 2):\n",
    "            # Calculate loss for both the first transformed image and second\n",
    "            loss1 = criterion(zk_list[i], zk_list[i+1], zk_list)\n",
    "            loss2 = criterion(zk_list[i+1], zk_list[i], zk_list)\n",
    "            batch_loss = batch_loss + (loss1 + loss2)\n",
    "        \n",
    "        # Backward pass\n",
    "        batch_loss.backward()\n",
    "\n",
    "        # Update weights after processing the entire batch\n",
    "        optimizer.step()\n",
    "\n",
    "        total_loss += batch_loss.item() / 2*len(images)\n",
    "\n",
    "    average_loss = total_loss / len(train_loader)\n",
    "\n",
    "    print(f'Epoch {epoch + 1}/{num_epochs}, Loss: {average_loss}')\n",
    "    loss_history.append(average_loss)\n",
    "\n",
    "print('Training finished.')\n",
    "elapsed_time = time.time() - start_time"
   ],
   "metadata": {
    "id": "YhJhZdsdqHYR",
    "colab": {
     "base_uri": "https://localhost:8080/"
    },
    "outputId": "793a192b-d439-4d34-ef7d-cf802b017e67",
    "ExecuteTime": {
     "end_time": "2023-12-13T11:17:17.045210019Z",
     "start_time": "2023-12-13T10:59:34.241072309Z"
    }
   },
   "execution_count": 42,
   "outputs": [
    {
     "name": "stdout",
     "output_type": "stream",
     "text": [
      "Epoch 1/10, Loss: 3.2946133353233336\n",
      "Epoch 2/10, Loss: 2.975377888059616\n",
      "Epoch 3/10, Loss: 2.9372630626678466\n",
      "Epoch 4/10, Loss: 2.9112550132751465\n",
      "Epoch 5/10, Loss: 2.8903063905715944\n",
      "Epoch 6/10, Loss: 2.891204967212677\n",
      "Epoch 7/10, Loss: 2.868584390258789\n",
      "Epoch 8/10, Loss: 2.8640765580177305\n",
      "Epoch 9/10, Loss: 2.854138064289093\n",
      "Epoch 10/10, Loss: 2.8503780041217803\n",
      "Training finished.\n"
     ]
    }
   ]
  },
  {
   "cell_type": "code",
   "execution_count": 43,
   "outputs": [],
   "source": [
    "torch.save(model.base_model.state_dict(), model_name+'.pth')"
   ],
   "metadata": {
    "collapsed": false,
    "ExecuteTime": {
     "end_time": "2023-12-13T11:17:17.065867601Z",
     "start_time": "2023-12-13T11:17:17.045039705Z"
    }
   }
  },
  {
   "cell_type": "markdown",
   "source": [
    "Plotting the loss"
   ],
   "metadata": {
    "collapsed": false
   }
  },
  {
   "cell_type": "code",
   "execution_count": 44,
   "outputs": [
    {
     "data": {
      "text/plain": "<Figure size 640x480 with 1 Axes>",
      "image/png": "[encoded data removed]"
     },
     "metadata": {},
     "output_type": "display_data"
    }
   ],
   "source": [
    "plt.plot(loss_history)\n",
    "plt.title('Contrastive Loss')\n",
    "plt.xlabel('Epochs')\n",
    "plt.ylabel('Loss')\n",
    "plt.show()"
   ],
   "metadata": {
    "collapsed": false,
    "ExecuteTime": {
     "end_time": "2023-12-13T11:17:17.316132097Z",
     "start_time": "2023-12-13T11:17:17.067450438Z"
    }
   }
  },
  {
   "cell_type": "markdown",
   "source": [
    "## Classification Head\n"
   ],
   "metadata": {
    "id": "A7F6YefhRHNA"
   }
  },
  {
   "cell_type": "markdown",
   "source": [
    "### Usual MLP"
   ],
   "metadata": {
    "collapsed": false
   }
  },
  {
   "cell_type": "code",
   "source": [
    "%%capture\n",
    "# Set random seed for reproducibility\n",
    "torch.manual_seed(42)\n",
    "\n",
    "# Define transformation to convert CIFAR-10 images to grayscale\n",
    "transform = transforms.Compose([\n",
    "    transforms.ToTensor()\n",
    "])\n",
    "\n",
    "# Load CIFAR-10 dataset\n",
    "train_dataset_mlp = datasets.CIFAR10(root='./data', train=True, download=True, transform=transform)\n",
    "test_dataset_mlp = datasets.CIFAR10(root='./data', train=False, download=True, transform=transform)\n",
    "\n",
    "# Define data loaders\n",
    "batch_size_mlp = 64"
   ],
   "metadata": {
    "id": "pQ1mFEG9bfFv",
    "ExecuteTime": {
     "end_time": "2023-12-13T11:17:18.531197393Z",
     "start_time": "2023-12-13T11:17:17.296986120Z"
    }
   },
   "execution_count": 45,
   "outputs": []
  },
  {
   "cell_type": "code",
   "execution_count": 46,
   "outputs": [],
   "source": [
    "%%capture\n",
    "# Calculate the mean and std of the subset dataset\n",
    "train_means_mlp, train_stds_mlp = get_mean_std(train_dataset_mlp)\n",
    "print(f'Means: {train_means_mlp}')\n",
    "print(f'Standard deviations: {train_stds_mlp}\\n')\n",
    "val_means_mlp, val_stds_mlp = get_mean_std(test_dataset_mlp)\n",
    "print(f'Validation means: {val_means_mlp}')\n",
    "print(f'Validation standard deviations: {val_stds_mlp}')"
   ],
   "metadata": {
    "collapsed": false,
    "ExecuteTime": {
     "end_time": "2023-12-13T11:17:56.597125204Z",
     "start_time": "2023-12-13T11:17:18.570790768Z"
    }
   }
  },
  {
   "cell_type": "code",
   "execution_count": 47,
   "outputs": [],
   "source": [
    "%%capture\n",
    "train_dataset_mlp = datasets.CIFAR10(root='./data', train=True, download=True, transform=get_transforms(train_means_mlp,train_stds_mlp))\n",
    "val_dataset_mlp = datasets.CIFAR10(root='./data', train=False, download=True, transform=get_transforms(val_means_mlp,val_stds_mlp))\n",
    "\n",
    "# Data Loader\n",
    "train_loader_mlp = DataLoader(train_dataset_mlp, batch_size=batch_size_mlp, shuffle=True, num_workers=2)\n",
    "test_loader_mlp = DataLoader(val_dataset_mlp, batch_size=batch_size_mlp, shuffle=False, num_workers=2)"
   ],
   "metadata": {
    "collapsed": false,
    "ExecuteTime": {
     "end_time": "2023-12-13T11:17:57.803290328Z",
     "start_time": "2023-12-13T11:17:56.596991678Z"
    }
   }
  },
  {
   "cell_type": "markdown",
   "source": [
    "#### Our SimCLR model with MLP Head"
   ],
   "metadata": {
    "collapsed": false
   }
  },
  {
   "cell_type": "code",
   "execution_count": 48,
   "outputs": [],
   "source": [
    "%%capture\n",
    "clr_base_model = SimpleResNet()\n",
    "clr_base_model.load_state_dict(torch.load(model_name+'.pth'))\n",
    "clr_base_model.eval()"
   ],
   "metadata": {
    "collapsed": false,
    "ExecuteTime": {
     "end_time": "2023-12-13T11:17:57.970867128Z",
     "start_time": "2023-12-13T11:17:57.805122150Z"
    }
   }
  },
  {
   "cell_type": "code",
   "execution_count": 49,
   "outputs": [],
   "source": [
    "class MLPHead(nn.Module):\n",
    "    def __init__(self, input_size, hidden_size, num_classes):\n",
    "        super(MLPHead, self).__init__()\n",
    "        self.fc1 = nn.Linear(input_size, hidden_size)\n",
    "        self.relu = nn.ReLU()\n",
    "        self.fc2 = nn.Linear(hidden_size, num_classes)\n",
    "\n",
    "    def forward(self, x):\n",
    "        x = self.fc1(x)\n",
    "        x = self.relu(x)\n",
    "        x = self.fc2(x)\n",
    "        return x\n",
    "\n",
    "# Define the full model with contrastive feature extractor and MLP head\n",
    "class ContrastiveMLPModel(nn.Module):\n",
    "    def __init__(self, feature_extractor, mlp_head):\n",
    "        super(ContrastiveMLPModel, self).__init__()\n",
    "        self.base_model = feature_extractor\n",
    "        self.mlp_model = mlp_head\n",
    "\n",
    "    def forward(self, x):\n",
    "        features = self.base_model(x)\n",
    "        return self.mlp_model(features.view(features.size(0), -1))"
   ],
   "metadata": {
    "collapsed": false,
    "ExecuteTime": {
     "end_time": "2023-12-13T11:17:57.978899910Z",
     "start_time": "2023-12-13T11:17:57.973632855Z"
    }
   }
  },
  {
   "cell_type": "code",
   "execution_count": 50,
   "outputs": [],
   "source": [
    "%%capture\n",
    "# Output size of base model: torch.Size([1, 512])\n",
    "input_size_for_mlp = 512\n",
    "\n",
    "# Define the MLP head for classification\n",
    "mlp_head = MLPHead(input_size_for_mlp, hidden_size=256, num_classes=10)\n",
    "\n",
    "# Combine the feature extractor and MLP head into the full model\n",
    "contrastive_mlp_model = ContrastiveMLPModel(clr_base_model, mlp_head)\n",
    "contrastive_mlp_model.base_model.requires_grad = False\n",
    "\n",
    "# Define the optimizer\n",
    "mlp_lr = 0.001\n",
    "optimizer = torch.optim.Adam(contrastive_mlp_model.mlp_model.parameters(), lr=mlp_lr)\n",
    "criterion = nn.CrossEntropyLoss()\n",
    "\n",
    "# Define the training loop\n",
    "num_epochs = 10\n",
    "device = torch.device(\"cuda\" if torch.cuda.is_available() else \"cpu\")\n",
    "contrastive_mlp_model.to(device)"
   ],
   "metadata": {
    "collapsed": false,
    "ExecuteTime": {
     "end_time": "2023-12-13T11:17:58.004131862Z",
     "start_time": "2023-12-13T11:17:57.976115657Z"
    }
   }
  },
  {
   "cell_type": "code",
   "execution_count": 51,
   "outputs": [
    {
     "name": "stdout",
     "output_type": "stream",
     "text": [
      "Epoch 1/10, Classification Loss: 0.6146322797298431\n",
      "Epoch 2/10, Classification Loss: 0.5672034719467163\n",
      "Epoch 3/10, Classification Loss: 0.5518818436145783\n",
      "Epoch 4/10, Classification Loss: 0.542935531949997\n",
      "Epoch 5/10, Classification Loss: 0.5352910989284515\n",
      "Epoch 6/10, Classification Loss: 0.5297916806697845\n",
      "Epoch 7/10, Classification Loss: 0.5254642563343048\n",
      "Epoch 8/10, Classification Loss: 0.5212735776424408\n",
      "Epoch 9/10, Classification Loss: 0.5178605819702149\n",
      "Epoch 10/10, Classification Loss: 0.5145853198051452\n",
      "Training finished.\n"
     ]
    }
   ],
   "source": [
    "for epoch in range(num_epochs):\n",
    "    contrastive_mlp_model.train()\n",
    "    total_classification_loss = 0\n",
    "\n",
    "    for i, data in enumerate(train_loader_mlp):\n",
    "        images, labels = data\n",
    "        images = images.to(device)\n",
    "        labels = labels.to(device)\n",
    "\n",
    "        # Zero the gradients only for the parameters that require grad (MLP head)\n",
    "        contrastive_mlp_model.zero_grad()\n",
    "\n",
    "        # Forward pass\n",
    "        predictions = contrastive_mlp_model(images)\n",
    "\n",
    "        # Calculate classification loss using CrossEntropyLoss\n",
    "        classification_loss = criterion(predictions, labels)\n",
    "        total_classification_loss += classification_loss.item()\n",
    "\n",
    "\n",
    "        # Backward pass and update weights for the MLP head only\n",
    "        classification_loss.backward()\n",
    "        optimizer.step()\n",
    "\n",
    "    average_classification_loss = total_classification_loss / len(train_loader)\n",
    "\n",
    "    print(f'Epoch {epoch + 1}/{num_epochs}, Classification Loss: {average_classification_loss}')\n",
    "\n",
    "print('Training finished.')"
   ],
   "metadata": {
    "collapsed": false,
    "ExecuteTime": {
     "end_time": "2023-12-13T11:33:41.018192820Z",
     "start_time": "2023-12-13T11:17:58.000206624Z"
    }
   }
  },
  {
   "cell_type": "code",
   "execution_count": 52,
   "outputs": [
    {
     "name": "stderr",
     "output_type": "stream",
     "text": [
      "Testing: 100%|██████████| 157/157 [00:07<00:00, 20.17it/s]"
     ]
    },
    {
     "name": "stdout",
     "output_type": "stream",
     "text": [
      "Test Accuracy: 0.4108\n"
     ]
    },
    {
     "name": "stderr",
     "output_type": "stream",
     "text": [
      "\n"
     ]
    }
   ],
   "source": [
    "contrastive_mlp_model.eval()\n",
    "correct = 0\n",
    "total_samples = 0\n",
    "\n",
    "with torch.no_grad():\n",
    "    for data in tqdm(test_loader_mlp, desc='Testing'):\n",
    "        images, labels = data\n",
    "        images = images.to(device)\n",
    "        labels = labels.to(device)\n",
    "\n",
    "        outputs = contrastive_mlp_model(images)\n",
    "        _, predicted = outputs.max(1)\n",
    "        correct += predicted.eq(labels).sum().item()\n",
    "        total_samples += labels.size(0)\n",
    "\n",
    "mlp_accuracy = correct / total_samples\n",
    "print(f'Test Accuracy: {mlp_accuracy}')"
   ],
   "metadata": {
    "collapsed": false,
    "ExecuteTime": {
     "end_time": "2023-12-13T11:33:48.801382320Z",
     "start_time": "2023-12-13T11:33:41.017025505Z"
    }
   }
  },
  {
   "cell_type": "markdown",
   "source": [
    "### Using a more complex architecture of FC layers"
   ],
   "metadata": {
    "collapsed": false
   }
  },
  {
   "cell_type": "code",
   "execution_count": 53,
   "outputs": [
    {
     "name": "stdout",
     "output_type": "stream",
     "text": [
      "Files already downloaded and verified\n",
      "Files already downloaded and verified\n"
     ]
    }
   ],
   "source": [
    "# Set random seed for reproducibility\n",
    "torch.manual_seed(42)\n",
    "\n",
    "# Define transformation to convert CIFAR-10 images to grayscale\n",
    "transform = transforms.Compose([\n",
    "    transforms.ToTensor()\n",
    "])\n",
    "\n",
    "# Load CIFAR-10 dataset\n",
    "train_dataset_fc = datasets.CIFAR10(root='./data', train=True, download=True, transform=transform)\n",
    "test_dataset_fc = datasets.CIFAR10(root='./data', train=False, download=True, transform=transform)"
   ],
   "metadata": {
    "collapsed": false,
    "ExecuteTime": {
     "end_time": "2023-12-13T11:33:50.038766896Z",
     "start_time": "2023-12-13T11:33:48.801071058Z"
    }
   }
  },
  {
   "cell_type": "code",
   "execution_count": 54,
   "outputs": [
    {
     "name": "stdout",
     "output_type": "stream",
     "text": [
      "==> Computing mean and std..\n",
      "Means: tensor([0.4914, 0.4822, 0.4465])\n",
      "Standard deviations: tensor([0.2023, 0.1994, 0.2010])\n",
      "\n",
      "==> Computing mean and std..\n",
      "Validation means: tensor([0.4942, 0.4851, 0.4504])\n",
      "Validation standard deviations: tensor([0.2020, 0.1991, 0.2011])\n"
     ]
    }
   ],
   "source": [
    "# Calculate the mean and std of the subset dataset\n",
    "train_means_fc, train_stds_fc = get_mean_std(train_dataset_fc)\n",
    "print(f'Means: {train_means_fc}')\n",
    "print(f'Standard deviations: {train_stds_fc}\\n')\n",
    "val_means_fc, val_stds_fc = get_mean_std(test_dataset_fc)\n",
    "print(f'Validation means: {val_means_fc}')\n",
    "print(f'Validation standard deviations: {val_stds_fc}')"
   ],
   "metadata": {
    "collapsed": false,
    "ExecuteTime": {
     "end_time": "2023-12-13T11:34:28.151951169Z",
     "start_time": "2023-12-13T11:33:50.039978444Z"
    }
   }
  },
  {
   "cell_type": "code",
   "execution_count": 55,
   "outputs": [],
   "source": [
    "%%capture\n",
    "# Apply transformations\n",
    "train_dataset_fc = datasets.CIFAR10(root='./data', train=True, download=True, transform=get_transforms(train_means_fc,train_stds_fc))\n",
    "val_dataset_fc = datasets.CIFAR10(root='./data', train=False, download=True, transform=get_transforms(val_means_fc,val_stds_fc))\n",
    "\n",
    "# Data Loader\n",
    "train_loader_fc = DataLoader(train_dataset_fc, batch_size=batch_size_mlp, shuffle=True, num_workers=2)\n",
    "test_loader_fc = DataLoader(val_dataset_fc, batch_size=batch_size_mlp, shuffle=False, num_workers=2)"
   ],
   "metadata": {
    "collapsed": false,
    "ExecuteTime": {
     "end_time": "2023-12-13T11:34:29.338374534Z",
     "start_time": "2023-12-13T11:34:28.152919366Z"
    }
   }
  },
  {
   "cell_type": "markdown",
   "source": [
    "#### Our SimCLR model with FC Head"
   ],
   "metadata": {
    "collapsed": false
   }
  },
  {
   "cell_type": "code",
   "execution_count": 56,
   "outputs": [],
   "source": [
    "%%capture\n",
    "clr_base_model_for_fc = SimpleResNet()\n",
    "clr_base_model_for_fc.load_state_dict(torch.load(model_name+'.pth'))\n",
    "clr_base_model_for_fc.eval()"
   ],
   "metadata": {
    "collapsed": false,
    "ExecuteTime": {
     "end_time": "2023-12-13T11:34:29.505085111Z",
     "start_time": "2023-12-13T11:34:29.340889150Z"
    }
   }
  },
  {
   "cell_type": "code",
   "execution_count": 57,
   "outputs": [],
   "source": [
    "class FCHead(nn.Module):\n",
    "    def __init__(self, input_size=512, num_classes=10):\n",
    "        super(FCHead, self).__init__()\n",
    "        self.input_size = input_size\n",
    "        self.fc1 = nn.Linear(self.input_size, 512)\n",
    "        self.bn1 = nn.BatchNorm1d(512)\n",
    "        self.relu1 = nn.ReLU()\n",
    "        self.dropout = nn.Dropout(0.5)\n",
    "        self.fc2 = nn.Linear(512, num_classes)\n",
    "\n",
    "    def forward(self, x):\n",
    "        x = self.fc1(x)\n",
    "        x = self.bn1(x)\n",
    "        x = self.relu1(x)\n",
    "        x = self.dropout(x)\n",
    "        x = self.fc2(x)\n",
    "        return x\n",
    "\n",
    "class ContrastiveFCModel(nn.Module):\n",
    "    def __init__(self, feature_extractor, fc_head):\n",
    "        super(ContrastiveFCModel, self).__init__()\n",
    "        self.base_model = feature_extractor\n",
    "        self.fc_model = fc_head\n",
    "\n",
    "    def forward(self, x):\n",
    "        features = self.base_model(x)\n",
    "        return self.fc_model(features.view(features.size(0), -1))"
   ],
   "metadata": {
    "collapsed": false,
    "ExecuteTime": {
     "end_time": "2023-12-13T11:34:29.515449451Z",
     "start_time": "2023-12-13T11:34:29.505757228Z"
    }
   }
  },
  {
   "cell_type": "code",
   "execution_count": 58,
   "outputs": [],
   "source": [
    "%%capture\n",
    "# Define the CNN head for classification\n",
    "fc_head = FCHead(input_size=512, num_classes=10)\n",
    "\n",
    "# Combine the feature extractor and MLP head into the full model\n",
    "contrastive_fc_model = ContrastiveFCModel(clr_base_model_for_fc, fc_head)\n",
    "contrastive_fc_model.base_model.requires_grad = False\n",
    "\n",
    "# Define the optimizer\n",
    "mlp_lr = 0.001\n",
    "optimizer = torch.optim.Adam(contrastive_fc_model.fc_model.parameters(), lr=mlp_lr)\n",
    "criterion = nn.CrossEntropyLoss()\n",
    "\n",
    "# Define the training loop\n",
    "num_epochs = 10\n",
    "device = torch.device(\"cuda\" if torch.cuda.is_available() else \"cpu\")\n",
    "contrastive_fc_model.to(device)"
   ],
   "metadata": {
    "collapsed": false,
    "ExecuteTime": {
     "end_time": "2023-12-13T11:34:29.544093772Z",
     "start_time": "2023-12-13T11:34:29.513859849Z"
    }
   }
  },
  {
   "cell_type": "code",
   "execution_count": 59,
   "outputs": [
    {
     "name": "stdout",
     "output_type": "stream",
     "text": [
      "Epoch 1/10, Classification Loss: 0.5858645562648773\n",
      "Epoch 2/10, Classification Loss: 0.558238417673111\n",
      "Epoch 3/10, Classification Loss: 0.5484469312191009\n",
      "Epoch 4/10, Classification Loss: 0.5416579977512359\n",
      "Epoch 5/10, Classification Loss: 0.5360598414421082\n",
      "Epoch 6/10, Classification Loss: 0.5309843094825745\n",
      "Epoch 7/10, Classification Loss: 0.5283968874931335\n",
      "Epoch 8/10, Classification Loss: 0.5249115033149719\n",
      "Epoch 9/10, Classification Loss: 0.522894117641449\n",
      "Epoch 10/10, Classification Loss: 0.5199760732173919\n",
      "Training finished.\n"
     ]
    }
   ],
   "source": [
    "# Training loop\n",
    "for epoch in range(num_epochs):\n",
    "    contrastive_fc_model.train()\n",
    "    total_classification_loss = 0\n",
    "\n",
    "    for i, data in enumerate(train_loader_fc):\n",
    "        images, labels = data\n",
    "        images = images.to(device)\n",
    "        labels = labels.to(device)\n",
    "\n",
    "        # Zero the gradients only for the parameters that require grad (FC head)\n",
    "        contrastive_fc_model.zero_grad()\n",
    "\n",
    "        # Forward pass\n",
    "        predictions = contrastive_fc_model(images)\n",
    "\n",
    "        # Calculate classification loss using CrossEntropyLoss\n",
    "        classification_loss = criterion(predictions, labels)\n",
    "        total_classification_loss += classification_loss.item()\n",
    "\n",
    "        # Backward pass and update weights for the FC head only\n",
    "        classification_loss.backward()\n",
    "        optimizer.step()\n",
    "\n",
    "    average_classification_loss = total_classification_loss / len(train_loader)\n",
    "\n",
    "    print(f'Epoch {epoch + 1}/{num_epochs}, Classification Loss: {average_classification_loss}')\n",
    "\n",
    "print('Training finished.')"
   ],
   "metadata": {
    "collapsed": false,
    "ExecuteTime": {
     "end_time": "2023-12-13T11:50:12.705535617Z",
     "start_time": "2023-12-13T11:34:29.543673598Z"
    }
   }
  },
  {
   "cell_type": "code",
   "execution_count": 60,
   "outputs": [
    {
     "name": "stderr",
     "output_type": "stream",
     "text": [
      "Testing: 100%|██████████| 157/157 [00:07<00:00, 20.32it/s]"
     ]
    },
    {
     "name": "stdout",
     "output_type": "stream",
     "text": [
      "Test Accuracy: 0.4191\n"
     ]
    },
    {
     "name": "stderr",
     "output_type": "stream",
     "text": [
      "\n"
     ]
    }
   ],
   "source": [
    "# Evaluate on the test set\n",
    "contrastive_fc_model.eval()\n",
    "correct = 0\n",
    "total_samples = 0\n",
    "\n",
    "with torch.no_grad():\n",
    "    for data in tqdm(test_loader_fc, desc='Testing'):\n",
    "        images, labels = data\n",
    "        images = images.to(device)\n",
    "        labels = labels.to(device)\n",
    "\n",
    "        outputs = contrastive_fc_model(images)\n",
    "        _, predicted = outputs.max(1)\n",
    "        correct += predicted.eq(labels).sum().item()\n",
    "        total_samples += labels.size(0)\n",
    "\n",
    "fc_accuracy = correct / total_samples\n",
    "print(f'Test Accuracy: {fc_accuracy}')"
   ],
   "metadata": {
    "collapsed": false,
    "ExecuteTime": {
     "end_time": "2023-12-13T11:50:20.401409865Z",
     "start_time": "2023-12-13T11:50:12.704965171Z"
    }
   }
  },
  {
   "cell_type": "markdown",
   "source": [
    "ADD TO CSV"
   ],
   "metadata": {
    "collapsed": false
   }
  },
  {
   "cell_type": "code",
   "execution_count": 70,
   "outputs": [],
   "source": [
    "with open('results.csv', 'a') as f:\n",
    "    f.write(\"\"+str(model_name)+','+str(batch_size)+','+str(np.round(elapsed_time,3))+','+str(np.round(loss_history[-1],3))+','+str(np.round(mlp_accuracy,3))+','+str(np.round(fc_accuracy,3))+'\\n')"
   ],
   "metadata": {
    "collapsed": false,
    "ExecuteTime": {
     "end_time": "2023-12-13T13:01:21.997214819Z",
     "start_time": "2023-12-13T13:01:21.955844553Z"
    }
   }
  },
  {
   "cell_type": "markdown",
   "source": [],
   "metadata": {
    "collapsed": false
   }
  }
 ]
}
